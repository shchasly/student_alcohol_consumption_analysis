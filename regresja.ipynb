{
 "cells": [
  {
   "cell_type": "code",
   "execution_count": null,
   "metadata": {
    "id": "LlUeAJfL3N6i"
   },
   "outputs": [],
   "source": [
    "import pandas as pd\n",
    "import numpy as np\n",
    "import matplotlib.pyplot as plt\n",
    "import seaborn as sns\n",
    "import math\n",
    "from sklearn import metrics\n",
    "from sklearn import linear_model\n",
    "from sklearn.model_selection import train_test_split\n",
    "from sklearn.model_selection import GridSearchCV\n",
    "from sklearn.linear_model import Ridge\n",
    "from sklearn.linear_model import LinearRegression\n",
    "from sklearn.metrics import mean_absolute_error"
   ]
  },
  {
   "cell_type": "code",
   "execution_count": null,
   "metadata": {
    "id": "NvEKVmB64ltJ"
   },
   "outputs": [],
   "source": [
    "por = pd.read_csv('student-por.csv', parse_dates=True)\n",
    "mat = pd.read_csv('student-mat.csv', parse_dates=True)"
   ]
  },
  {
   "cell_type": "code",
   "execution_count": null,
   "metadata": {
    "id": "ACZmS5Z13ai3"
   },
   "outputs": [],
   "source": [
    "all_features = ['school', 'sex', 'age', 'address', 'famsize', 'Pstatus', 'Medu', 'Fedu', 'Mjob', 'Fjob', 'reason', 'guardian', 'traveltime', 'studytime','failures', 'schoolsup','paid', 'famsup', 'activities', 'nursery', 'higher', 'internet', 'romantic', 'famrel', 'freetime', 'goout', 'Dalc', 'Walc', 'health', 'absences']"
   ]
  },
  {
   "cell_type": "markdown",
   "metadata": {
    "id": "3YgPzR6lT66k"
   },
   "source": [
    "Odrzucenie cech nieistotnych:"
   ]
  },
  {
   "cell_type": "code",
   "execution_count": null,
   "metadata": {
    "id": "NlFgthqkT8bs"
   },
   "outputs": [],
   "source": [
    "por = por.drop(['address','health', 'reason', 'guardian', 'Fjob', 'Mjob', 'traveltime', 'nursery', 'internet', 'G1', 'G2'], axis = 1)\n",
    "mat = mat.drop(['address','health', 'reason', 'guardian', 'Fjob', 'Mjob', 'traveltime', 'nursery', 'internet', 'G1', 'G2'], axis = 1)"
   ]
  },
  {
   "cell_type": "markdown",
   "metadata": {
    "id": "uv-ymXbsTkqg"
   },
   "source": [
    "Przeskalowanie wartości cech nienumerycznych:"
   ]
  },
  {
   "cell_type": "code",
   "execution_count": null,
   "metadata": {
    "id": "kGbeTi-OOO6t"
   },
   "outputs": [],
   "source": [
    "por['school'] = por['school'].apply(lambda x: 0 if x=='GP' else 1)\n",
    "por['sex'] = por['sex'].apply(lambda x: 0 if x=='F' else 1)\n",
    "por['famsize'] = por['famsize'].apply(lambda x: 0 if x=='GT3' else 1)\n",
    "por['Pstatus'] = por['Pstatus'].apply(lambda x: 0 if x=='A' else 1)\n",
    "por['schoolsup'] = por['schoolsup'].apply(lambda x: 0 if x=='yes' else 1)\n",
    "por['famsup'] = por['famsup'].apply(lambda x: 0 if x=='yes' else 1)\n",
    "por['paid'] = por['paid'].apply(lambda x: 0 if x=='yes' else 1)\n",
    "por['activities'] = por['activities'].apply(lambda x: 0 if x=='yes' else 1)\n",
    "por['higher'] = por['higher'].apply(lambda x: 0 if x=='yes' else 1)\n",
    "por['romantic'] = por['romantic'].apply(lambda x: 0 if x=='yes' else 1)\n",
    "\n",
    "mat['school'] = mat['school'].apply(lambda x: 0 if x=='GP' else 1)\n",
    "mat['sex'] = mat['sex'].apply(lambda x: 0 if x=='F' else 1)\n",
    "mat['famsize'] = mat['famsize'].apply(lambda x: 0 if x=='GT3' else 1)\n",
    "mat['Pstatus'] = mat['Pstatus'].apply(lambda x: 0 if x=='A' else 1)\n",
    "mat['schoolsup'] = mat['schoolsup'].apply(lambda x: 0 if x=='yes' else 1)\n",
    "mat['famsup'] = mat['famsup'].apply(lambda x: 0 if x=='yes' else 1)\n",
    "mat['paid'] = mat['paid'].apply(lambda x: 0 if x=='yes' else 1)\n",
    "mat['activities'] = mat['activities'].apply(lambda x: 0 if x=='yes' else 1)\n",
    "mat['higher'] = mat['higher'].apply(lambda x: 0 if x=='yes' else 1)\n",
    "mat['romantic'] = mat['romantic'].apply(lambda x: 0 if x=='yes' else 1)"
   ]
  },
  {
   "cell_type": "markdown",
   "metadata": {
    "id": "KzSDCQ1LMxUm"
   },
   "source": [
    "# *Influence on grades prediction for por dataset*"
   ]
  },
  {
   "cell_type": "code",
   "execution_count": null,
   "metadata": {
    "id": "S5Wn1naHVTgm"
   },
   "outputs": [],
   "source": [
    "yp = por['G3']\n",
    "por = por.drop('G3', axis = 1)"
   ]
  },
  {
   "cell_type": "code",
   "execution_count": null,
   "metadata": {
    "colab": {
     "base_uri": "https://localhost:8080/"
    },
    "id": "gOeFJzr2c4Bl",
    "outputId": "287e2bc1-e955-45a0-9f56-6ea5c5031e57"
   },
   "outputs": [
    {
     "name": "stdout",
     "output_type": "stream",
     "text": [
      "<class 'pandas.core.frame.DataFrame'>\n",
      "RangeIndex: 649 entries, 0 to 648\n",
      "Data columns (total 21 columns):\n",
      " #   Column      Non-Null Count  Dtype\n",
      "---  ------      --------------  -----\n",
      " 0   school      649 non-null    int64\n",
      " 1   sex         649 non-null    int64\n",
      " 2   age         649 non-null    int64\n",
      " 3   famsize     649 non-null    int64\n",
      " 4   Pstatus     649 non-null    int64\n",
      " 5   Medu        649 non-null    int64\n",
      " 6   Fedu        649 non-null    int64\n",
      " 7   studytime   649 non-null    int64\n",
      " 8   failures    649 non-null    int64\n",
      " 9   schoolsup   649 non-null    int64\n",
      " 10  famsup      649 non-null    int64\n",
      " 11  paid        649 non-null    int64\n",
      " 12  activities  649 non-null    int64\n",
      " 13  higher      649 non-null    int64\n",
      " 14  romantic    649 non-null    int64\n",
      " 15  famrel      649 non-null    int64\n",
      " 16  freetime    649 non-null    int64\n",
      " 17  goout       649 non-null    int64\n",
      " 18  Dalc        649 non-null    int64\n",
      " 19  Walc        649 non-null    int64\n",
      " 20  absences    649 non-null    int64\n",
      "dtypes: int64(21)\n",
      "memory usage: 106.6 KB\n"
     ]
    }
   ],
   "source": [
    "por.info()"
   ]
  },
  {
   "cell_type": "markdown",
   "metadata": {
    "id": "Q4JtBCnVVnwS"
   },
   "source": [
    "Dzielimy zbiór por na treningowy i testowy:"
   ]
  },
  {
   "cell_type": "code",
   "execution_count": null,
   "metadata": {
    "id": "idQURxsuIftv"
   },
   "outputs": [],
   "source": [
    "xp_train, xp_test, yp_train, yp_test = train_test_split(por, yp, test_size=0.3, random_state=1)"
   ]
  },
  {
   "cell_type": "markdown",
   "metadata": {
    "id": "A75YB5AyVthc"
   },
   "source": [
    "Wybieramy współczynnik regularyzacji dla metody Lasso za pomocą grid search cross validation."
   ]
  },
  {
   "cell_type": "code",
   "execution_count": null,
   "metadata": {
    "colab": {
     "base_uri": "https://localhost:8080/"
    },
    "id": "V5FvyuWoN0jE",
    "outputId": "5b66be40-6bfa-46f7-e50b-f1a6556d066d"
   },
   "outputs": [
    {
     "name": "stdout",
     "output_type": "stream",
     "text": [
      "{'alpha': 0.001}\n"
     ]
    }
   ],
   "source": [
    "parameters = {'alpha':[0.0001, 0.001, 0.1, 0.2, 0.4, 0.8, 1.6, 3.2, 6.4]}\n",
    "lassop = linear_model.Lasso()\n",
    "clf = GridSearchCV(lassop, parameters)\n",
    "clf.fit(xp_train, yp_train)\n",
    "print(clf.best_params_)"
   ]
  },
  {
   "cell_type": "code",
   "execution_count": null,
   "metadata": {
    "colab": {
     "base_uri": "https://localhost:8080/"
    },
    "id": "bVusfoo7Ifxb",
    "outputId": "f87d936d-e3bb-4310-d8e9-7de22530046a"
   },
   "outputs": [
    {
     "data": {
      "text/plain": [
       "Lasso(alpha=0.001, copy_X=True, fit_intercept=True, max_iter=1000,\n",
       "      normalize=False, positive=False, precompute=False, random_state=None,\n",
       "      selection='cyclic', tol=0.0001, warm_start=False)"
      ]
     },
     "execution_count": 35,
     "metadata": {
      "tags": []
     },
     "output_type": "execute_result"
    }
   ],
   "source": [
    "lassop = linear_model.Lasso(alpha=0.001)\n",
    "lassop.fit(xp_train, yp_train)"
   ]
  },
  {
   "cell_type": "markdown",
   "metadata": {
    "id": "4ZXw2kdoV5ou"
   },
   "source": [
    "Cechy, wybrane przez Lasso jako istotne:"
   ]
  },
  {
   "cell_type": "code",
   "execution_count": null,
   "metadata": {
    "colab": {
     "base_uri": "https://localhost:8080/"
    },
    "id": "S8MTwj0rIf0o",
    "outputId": "adcc9a20-36cf-4192-889f-2a90e659ab28"
   },
   "outputs": [
    {
     "name": "stdout",
     "output_type": "stream",
     "text": [
      "higher\n",
      "school\n",
      "failures\n",
      "schoolsup\n",
      "paid\n",
      "famsize\n",
      "sex\n",
      "activities\n",
      "studytime\n",
      "romantic\n",
      "Walc\n",
      "famsup\n",
      "Fedu\n",
      "age\n",
      "famrel\n",
      "Dalc\n",
      "freetime\n",
      "Medu\n",
      "goout\n",
      "Pstatus\n",
      "absences\n"
     ]
    }
   ],
   "source": [
    "best_features_lasso = []\n",
    "lp_coefs = list(abs(lassop.coef_))\n",
    "lp_coefs_sorted = sorted(lp_coefs, reverse = True)\n",
    "fea = list(xp_train.columns)\n",
    "for lc in lp_coefs_sorted:\n",
    "  if lc > 0:\n",
    "    print(fea[lp_coefs.index(lc)])\n",
    "    best_features_lasso.append(fea[lp_coefs.index(lc)])"
   ]
  },
  {
   "cell_type": "markdown",
   "metadata": {
    "id": "P0Odq1jHWAWa"
   },
   "source": [
    "Metoda wybiera wszystkie atrybuty, jako te, co mają wpływ na uczenie się modelu."
   ]
  },
  {
   "cell_type": "markdown",
   "metadata": {
    "id": "GzT5XGVLeApY"
   },
   "source": [
    "# **Ridge Regression**"
   ]
  },
  {
   "cell_type": "markdown",
   "metadata": {
    "id": "TDcQF5tmeuGP"
   },
   "source": [
    " *For all features = For the best Lasso features*"
   ]
  },
  {
   "cell_type": "code",
   "execution_count": null,
   "metadata": {
    "colab": {
     "base_uri": "https://localhost:8080/"
    },
    "id": "wanHUazjieys",
    "outputId": "79ec017b-b701-4141-f8cf-f6b4fb1f4ee1"
   },
   "outputs": [
    {
     "name": "stdout",
     "output_type": "stream",
     "text": [
      "The best lambda parameter for Ridge:  {'alpha': 10.24}\n"
     ]
    }
   ],
   "source": [
    "parameters = {'alpha':[0.01, 0.02, 0.04, 0.16, 0.32, 0.64, 1.28, 2.56, 5.12, 10.24, 20.48, 40.96, 82]}\n",
    "rdg = Ridge()\n",
    "clf = GridSearchCV(rdg, parameters)\n",
    "clf.fit(xp_train, yp_train)\n",
    "print(\"The best lambda parameter for Ridge: \", clf.best_params_)"
   ]
  },
  {
   "cell_type": "code",
   "execution_count": null,
   "metadata": {
    "colab": {
     "base_uri": "https://localhost:8080/"
    },
    "id": "uMEZZztuiOnY",
    "outputId": "914d13cf-bdd0-4b11-fb40-643b9a151962"
   },
   "outputs": [
    {
     "name": "stdout",
     "output_type": "stream",
     "text": [
      "Bias: 6.389\n",
      "Generalization: 8.480\n",
      "Accuracy for train set: 2.528\n",
      "Accuracy for test set: 2.912\n",
      "Mean average error train set: 1.852\n",
      "Mean average error test set: 2.089\n"
     ]
    }
   ],
   "source": [
    "model = Ridge(alpha = 10.24).fit(xp_train, yp_train)\n",
    "\n",
    "yp_pred = model.predict(xp_train)\n",
    "e_train = metrics.mean_squared_error(yp_train, yp_pred)\n",
    "rmse_train = math.sqrt(e_train)\n",
    "\n",
    "yp_test_pred = model.predict(xp_test)\n",
    "e_test = metrics.mean_squared_error(yp_test_pred, yp_test)\n",
    "rmse_test = math.sqrt(e_test)\n",
    "\n",
    "print('Bias: %.3f'%e_train)\n",
    "print('Generalization: %.3f'%e_test)\n",
    "print('Accuracy for train set: %.3f'%rmse_train)\n",
    "print('Accuracy for test set: %.3f'%rmse_test)\n",
    "print('Mean average error train set: %.3f'%mean_absolute_error(yp_train, yp_pred))\n",
    "print('Mean average error test set: %.3f'%mean_absolute_error(yp_test, yp_test_pred))"
   ]
  },
  {
   "cell_type": "code",
   "execution_count": null,
   "metadata": {
    "colab": {
     "base_uri": "https://localhost:8080/"
    },
    "id": "69UD8ulrJRbC",
    "outputId": "129e9bd9-3f03-4421-847b-cf48b48ae1d0"
   },
   "outputs": [
    {
     "name": "stdout",
     "output_type": "stream",
     "text": [
      "higher\n",
      "failures\n",
      "school\n",
      "schoolsup\n",
      "paid\n",
      "famsize\n",
      "sex\n",
      "activities\n",
      "studytime\n",
      "romantic\n",
      "Walc\n",
      "Fedu\n",
      "famsup\n",
      "Dalc\n",
      "famrel\n",
      "freetime\n",
      "age\n",
      "Medu\n",
      "goout\n",
      "Pstatus\n",
      "absences\n"
     ]
    }
   ],
   "source": [
    "lp_coefs = model.coef_.tolist()\n",
    "lp_coefs = np.abs(lp_coefs).tolist()\n",
    "lp_coefs_sorted = sorted(lp_coefs, reverse = True)\n",
    "fea = list(xp_train.columns)\n",
    "for lc in lp_coefs_sorted:\n",
    "    print(fea[lp_coefs.index(lc)])\n",
    "    best_features_lasso.append(fea[lp_coefs.index(lc)])"
   ]
  },
  {
   "cell_type": "markdown",
   "metadata": {
    "id": "RCb8ASdCi7T4"
   },
   "source": [
    "## **Linear Regression**\n",
    "*For all features = For the best lasso features*"
   ]
  },
  {
   "cell_type": "code",
   "execution_count": null,
   "metadata": {
    "colab": {
     "base_uri": "https://localhost:8080/"
    },
    "id": "uFlNbAeWWjnL",
    "outputId": "ed02cdc9-d075-450e-e3aa-edc4d0f2476f"
   },
   "outputs": [
    {
     "data": {
      "text/plain": [
       "LinearRegression(copy_X=True, fit_intercept=True, n_jobs=None, normalize=False)"
      ]
     },
     "execution_count": 93,
     "metadata": {
      "tags": []
     },
     "output_type": "execute_result"
    }
   ],
   "source": [
    "model_p = LinearRegression() \n",
    "model_p.fit(xp_train, yp_train)"
   ]
  },
  {
   "cell_type": "code",
   "execution_count": null,
   "metadata": {
    "colab": {
     "base_uri": "https://localhost:8080/"
    },
    "id": "xTM9Iu8DYKYi",
    "outputId": "fb4c7db0-1e4a-4b70-c994-4c2759b42a89"
   },
   "outputs": [
    {
     "name": "stdout",
     "output_type": "stream",
     "text": [
      "Bias: 6.359\n",
      "Generalization: 8.549\n",
      "Accuracy for train set: 2.522\n",
      "Accuracy for test set: 2.924\n",
      "Mean average error train set: 1.862\n",
      "Mean average error test set: 2.097\n"
     ]
    }
   ],
   "source": [
    "yp_pred = model_p.predict(xp_train)\n",
    "yp_test_pred = model_p.predict(xp_test)\n",
    "\n",
    "ep_train = metrics.mean_squared_error(yp_train, yp_pred)\n",
    "rmse_train = math.sqrt(ep_train)\n",
    "\n",
    "ep_test = metrics.mean_squared_error(yp_test, yp_test_pred)\n",
    "rmse_test = math.sqrt(ep_test)\n",
    "\n",
    "print('Bias: %.3f'%ep_train)\n",
    "print('Generalization: %.3f'%ep_test)\n",
    "print('Accuracy for train set: %.3f'%rmse_train)\n",
    "print('Accuracy for test set: %.3f'%rmse_test)\n",
    "print('Mean average error train set: %.3f'%mean_absolute_error(yp_train, yp_pred))\n",
    "print('Mean average error test set: %.3f'%mean_absolute_error(yp_test, yp_test_pred))"
   ]
  },
  {
   "cell_type": "markdown",
   "metadata": {
    "id": "N3EYlZknhJ2e"
   },
   "source": [
    "Wykorzystujemy dwa estymatory - Ridge Regression oraz Linear Regression. Współczynnik regularyzacji dla regresji grzbietowej wybieramy jak poprzednio za pomocą metody grid search cross validation. Wyniki otrzymane w efekcie trenowania modeli tych estymatorów różnią się w małym stopniu.\n",
    "\n",
    "Dla oszacowania modeli wykorzystujemy MSE (mean squered error), RMSE (root mean squered error) oraz MAE (mean absolute error). MAE jest miarą, która wskazuje na średni rozrzut między wartością rzeczywistą a przewidywalną. MAE i RMSE są nieco podobne swoją istotą - oba błędy wskazują na różnice między wartością rzeczywistą a przewidywalną, ale zaletą drugiej jest to, że podwyższa ona wagi błędów. RMSE dostaje się poprzez sumowanie różnic wartości podniesionych do kwadratu, następnie znajdowanie wartości średniej i dalsze pierwiastkowanie (inaczej, jest to pierwiastek z MSE). Zapewnia to zwiększenie wag błędów w sposób wykładniczy, wtedy jak MAE nie jest bardzo czuła na wartości odstające.\n",
    "Pod względem tego, że skala ocen jest 20-punktowa, wyniki dokonanych obliczeń są zadowalające.\n",
    "\n"
   ]
  },
  {
   "cell_type": "markdown",
   "metadata": {
    "id": "Zahj0PCpceHQ"
   },
   "source": [
    "# *Influence on grades prediction for mat dataset*"
   ]
  },
  {
   "cell_type": "code",
   "execution_count": null,
   "metadata": {
    "id": "PQ1NTOfsjyxi"
   },
   "outputs": [],
   "source": [
    "ym = mat['G3']\n",
    "mat = mat.drop('G3', axis = 1)"
   ]
  },
  {
   "cell_type": "markdown",
   "metadata": {
    "id": "7NWcxW2uYYrX"
   },
   "source": [
    "Dzielimy zbiór mat na zbiór treningowy i testowy:"
   ]
  },
  {
   "cell_type": "code",
   "execution_count": null,
   "metadata": {
    "id": "lUxXn2Hzc096"
   },
   "outputs": [],
   "source": [
    "xm_train, xm_test, ym_train, ym_test = train_test_split(mat, ym, test_size=0.3, random_state=1)"
   ]
  },
  {
   "cell_type": "markdown",
   "metadata": {
    "id": "jQOKaorcYx3E"
   },
   "source": [
    "Wybieramy współćzynnik regularyzacji dla metody Lasso:"
   ]
  },
  {
   "cell_type": "code",
   "execution_count": null,
   "metadata": {
    "colab": {
     "base_uri": "https://localhost:8080/"
    },
    "id": "mz-WiRsOc1BG",
    "outputId": "0d78e76e-56e2-436a-c083-74494f5e89f9"
   },
   "outputs": [
    {
     "name": "stdout",
     "output_type": "stream",
     "text": [
      "{'alpha': 0.1}\n"
     ]
    }
   ],
   "source": [
    "parameters = {'alpha':[0.001, 0.01, 0.1, 0.2, 0.4, 0.8, 1.6, 3.2, 6.4]}\n",
    "lassom = linear_model.Lasso()\n",
    "clf = GridSearchCV(lassom, parameters)\n",
    "clf.fit(xm_train, ym_train)\n",
    "print(clf.best_params_)"
   ]
  },
  {
   "cell_type": "code",
   "execution_count": null,
   "metadata": {
    "colab": {
     "base_uri": "https://localhost:8080/"
    },
    "id": "BBMLee-cc1EP",
    "outputId": "46397c74-39ba-499c-9387-2a13902f459d"
   },
   "outputs": [
    {
     "name": "stdout",
     "output_type": "stream",
     "text": [
      "failures\n",
      "romantic\n",
      "schoolsup\n",
      "famsize\n",
      "Medu\n",
      "higher\n",
      "sex\n",
      "studytime\n",
      "famsup\n",
      "age\n",
      "freetime\n",
      "paid\n",
      "goout\n",
      "famrel\n",
      "absences\n",
      "Walc\n"
     ]
    }
   ],
   "source": [
    "bestm_features_lasso = []\n",
    "lassom = linear_model.Lasso(alpha=0.1)\n",
    "lassom.fit(xm_train, ym_train)\n",
    "lm_coefs = list(abs(lassom.coef_))\n",
    "lm_coefs_sorted = sorted(lm_coefs, reverse = True)\n",
    "fea = list(xm_train.columns)\n",
    "for lc in lm_coefs_sorted:\n",
    "  if lc != 0:\n",
    "    print(fea[lm_coefs.index(lc)])\n",
    "    bestm_features_lasso.append(fea[lm_coefs.index(lc)])"
   ]
  },
  {
   "cell_type": "markdown",
   "metadata": {
    "id": "roNZvwKdY55A"
   },
   "source": [
    "Metoda Lasso wyznaczyła 5 cech jako nieistotne."
   ]
  },
  {
   "cell_type": "markdown",
   "metadata": {
    "id": "YjHpORX0iILJ"
   },
   "source": [
    "# **Ridge regression**\n",
    "*For the best lasso features*\n",
    "\n",
    "Znajdujemy współczynnik regularyzacji dla regresji grzbietowej:"
   ]
  },
  {
   "cell_type": "code",
   "execution_count": null,
   "metadata": {
    "colab": {
     "base_uri": "https://localhost:8080/"
    },
    "id": "T109hXAVZD8N",
    "outputId": "62db7dd8-c74d-4e35-b4e3-ee66aa1b46be"
   },
   "outputs": [
    {
     "name": "stdout",
     "output_type": "stream",
     "text": [
      "The best lambda parameter for Ridge:  {'alpha': 10.24}\n"
     ]
    }
   ],
   "source": [
    "parameters = {'alpha':[0.01, 0.02, 0.04, 0.16, 0.32, 0.64, 1.28, 2.56, 5.12, 10.24, 20.48, 40.96, 82]}\n",
    "rdg = Ridge()\n",
    "clf = GridSearchCV(rdg, parameters)\n",
    "clf.fit(xm_train[bestm_features_lasso], ym_train)\n",
    "print(\"The best lambda parameter for Ridge: \", clf.best_params_)"
   ]
  },
  {
   "cell_type": "code",
   "execution_count": null,
   "metadata": {
    "colab": {
     "base_uri": "https://localhost:8080/"
    },
    "id": "MEs2PIPHlbY2",
    "outputId": "afe1a9cf-df00-40aa-dcae-44bd6c2c735c"
   },
   "outputs": [
    {
     "name": "stdout",
     "output_type": "stream",
     "text": [
      "Bias: 16.305\n",
      "Generalization: 17.301\n",
      "Accuracy for train set: 4.038\n",
      "Accuracy for test set: 4.159\n",
      "Mean average error train set: 3.188\n",
      "Mean average error test set: 3.144\n"
     ]
    }
   ],
   "source": [
    "model = Ridge(alpha = 10.24).fit(xm_train[bestm_features_lasso], ym_train)\n",
    "\n",
    "ym_pred = model.predict(xm_train[bestm_features_lasso])\n",
    "e_train = metrics.mean_squared_error(ym_train, ym_pred)\n",
    "rmse_train = math.sqrt(e_train)\n",
    "\n",
    "ym_test_pred = model.predict(xm_test[bestm_features_lasso])\n",
    "e_test = metrics.mean_squared_error(ym_test, ym_test_pred)\n",
    "rmse_test = math.sqrt(e_test)\n",
    "\n",
    "print('Bias: %.3f'%e_train)\n",
    "print('Generalization: %.3f'%e_test)\n",
    "print('Accuracy for train set: %.3f'%rmse_train)\n",
    "print('Accuracy for test set: %.3f'%rmse_test)\n",
    "print('Mean average error train set: %.3f'%mean_absolute_error(ym_train, ym_pred))\n",
    "print('Mean average error test set: %.3f'%mean_absolute_error(ym_test, ym_test_pred))"
   ]
  },
  {
   "cell_type": "markdown",
   "metadata": {
    "id": "szO-onbTime0"
   },
   "source": [
    "*For all features*"
   ]
  },
  {
   "cell_type": "code",
   "execution_count": null,
   "metadata": {
    "id": "4hsjezk2MIJh"
   },
   "outputs": [],
   "source": []
  },
  {
   "cell_type": "code",
   "execution_count": null,
   "metadata": {
    "colab": {
     "base_uri": "https://localhost:8080/"
    },
    "id": "QAI7MYALmGm5",
    "outputId": "e04ce6ac-c491-491f-a8d6-5ad120f90c43"
   },
   "outputs": [
    {
     "name": "stdout",
     "output_type": "stream",
     "text": [
      "The best lambda parameter for Ridge:  {'alpha': 20.48}\n"
     ]
    }
   ],
   "source": [
    "parameters = {'alpha':[0.01, 0.02, 0.04, 0.16, 0.32, 0.64, 1.28, 2.56, 5.12, 10.24, 20.48, 40.96, 82]}\n",
    "rdg = Ridge()\n",
    "clf = GridSearchCV(rdg, parameters)\n",
    "clf.fit(xm_train, ym_train)\n",
    "print(\"The best lambda parameter for Ridge: \", clf.best_params_)"
   ]
  },
  {
   "cell_type": "code",
   "execution_count": null,
   "metadata": {
    "colab": {
     "base_uri": "https://localhost:8080/"
    },
    "id": "0TtBfdfCmRNd",
    "outputId": "8bf3f9c2-3d3b-4854-ac75-801d0ff094b9"
   },
   "outputs": [
    {
     "name": "stdout",
     "output_type": "stream",
     "text": [
      "Bias: 16.394\n",
      "Generalization: 16.571\n",
      "Accuracy for train set: 4.049\n",
      "Accuracy for test set: 4.071\n",
      "Mean average error train set: 3.195\n",
      "Mean average error test set: 3.064\n"
     ]
    }
   ],
   "source": [
    "model = Ridge(alpha = 20.48).fit(xm_train, ym_train)\n",
    "\n",
    "ym_pred = model.predict(xm_train)\n",
    "e_train = metrics.mean_squared_error(ym_train, ym_pred)\n",
    "rmse_train = math.sqrt(e_train)\n",
    "\n",
    "ym_test_pred = model.predict(xm_test)\n",
    "e_test = metrics.mean_squared_error(ym_test, ym_test_pred)\n",
    "rmse_test = math.sqrt(e_test)\n",
    "\n",
    "print('Bias: %.3f'%e_train)\n",
    "print('Generalization: %.3f'%e_test)\n",
    "print('Accuracy for train set: %.3f'%rmse_train)\n",
    "print('Accuracy for test set: %.3f'%rmse_test)\n",
    "print('Mean average error train set: %.3f'%mean_absolute_error(ym_train, ym_pred))\n",
    "print('Mean average error test set: %.3f'%mean_absolute_error(ym_test, ym_test_pred))"
   ]
  },
  {
   "cell_type": "code",
   "execution_count": null,
   "metadata": {
    "colab": {
     "base_uri": "https://localhost:8080/"
    },
    "id": "kae8YslvMJyA",
    "outputId": "da9eea26-d4d4-4775-d435-9cc3d45d95fe"
   },
   "outputs": [
    {
     "name": "stdout",
     "output_type": "stream",
     "text": [
      "higher\n",
      "failures\n",
      "school\n",
      "schoolsup\n",
      "paid\n",
      "famsize\n",
      "sex\n",
      "activities\n",
      "studytime\n",
      "romantic\n",
      "Walc\n",
      "Fedu\n",
      "famsup\n",
      "Dalc\n",
      "famrel\n",
      "freetime\n",
      "age\n",
      "Medu\n",
      "goout\n",
      "Pstatus\n",
      "absences\n"
     ]
    }
   ],
   "source": [
    "lp_coefs = model.coef_.tolist()\n",
    "lp_coefs = np.abs(lp_coefs).tolist()\n",
    "lp_coefs_sorted = sorted(lp_coefs, reverse = True)\n",
    "fea = list(xp_train.columns)\n",
    "for lc in lp_coefs_sorted:\n",
    "    print(fea[lp_coefs.index(lc)])\n",
    "    best_features_lasso.append(fea[lp_coefs.index(lc)])"
   ]
  },
  {
   "cell_type": "markdown",
   "metadata": {
    "id": "kaJWaq4hjJT9"
   },
   "source": [
    "# **Linear Regression**\n",
    "*For all features*"
   ]
  },
  {
   "cell_type": "code",
   "execution_count": null,
   "metadata": {
    "colab": {
     "base_uri": "https://localhost:8080/"
    },
    "id": "ZHuGiflfm8Zw",
    "outputId": "15aa74f3-16ce-461c-e80f-b229e52f9b11"
   },
   "outputs": [
    {
     "data": {
      "text/plain": [
       "LinearRegression(copy_X=True, fit_intercept=True, n_jobs=None, normalize=False)"
      ]
     },
     "execution_count": 22,
     "metadata": {
      "tags": []
     },
     "output_type": "execute_result"
    }
   ],
   "source": [
    "model_m = LinearRegression() \n",
    "model_m.fit(xm_train, ym_train)"
   ]
  },
  {
   "cell_type": "code",
   "execution_count": null,
   "metadata": {
    "colab": {
     "base_uri": "https://localhost:8080/"
    },
    "id": "nQHAJsFGnAZI",
    "outputId": "953be199-1bb9-4dd4-b46b-202f7cb891da"
   },
   "outputs": [
    {
     "name": "stdout",
     "output_type": "stream",
     "text": [
      "Bias: 16.034\n",
      "Generalization: 19.039\n",
      "Accuracy for train set: 4.004\n",
      "Accuracy for test set: 4.363\n",
      "Mean average error train set: 3.150\n",
      "Mean average error test set: 3.319\n"
     ]
    }
   ],
   "source": [
    "ym_pred = model_m.predict(xm_train)\n",
    "ym_test_pred = model_m.predict(xm_test)\n",
    "\n",
    "em_train = metrics.mean_squared_error(ym_train, ym_pred)\n",
    "rmse_train = math.sqrt(em_train)\n",
    "\n",
    "em_test = metrics.mean_squared_error(ym_test, ym_test_pred)\n",
    "rmse_test = math.sqrt(em_test)\n",
    "\n",
    "print('Bias: %.3f'%em_train)\n",
    "print('Generalization: %.3f'%em_test)\n",
    "print('Accuracy for train set: %.3f'%rmse_train)\n",
    "print('Accuracy for test set: %.3f'%rmse_test)\n",
    "print('Mean average error train set: %.3f'%mean_absolute_error(ym_train, ym_pred))\n",
    "print('Mean average error test set: %.3f'%mean_absolute_error(ym_test, ym_test_pred))"
   ]
  },
  {
   "cell_type": "markdown",
   "metadata": {
    "id": "IDUjw9JljdnX"
   },
   "source": [
    "*For the best lasso features*"
   ]
  },
  {
   "cell_type": "code",
   "execution_count": null,
   "metadata": {
    "colab": {
     "base_uri": "https://localhost:8080/"
    },
    "id": "dM1mJpUGyiyG",
    "outputId": "56d1bca6-7525-4af1-b8d4-e152f1aeb539"
   },
   "outputs": [
    {
     "name": "stdout",
     "output_type": "stream",
     "text": [
      "Bias: 16.159\n",
      "Generalization: 18.914\n",
      "Accuracy for train set: 4.020\n",
      "Accuracy for test set: 4.349\n",
      "Mean average error train set: 3.158\n",
      "Mean average error test set: 3.302\n"
     ]
    }
   ],
   "source": [
    "model_m.fit(xm_train[bestm_features_lasso], ym_train)\n",
    "\n",
    "ym_pred = model_m.predict(xm_train[bestm_features_lasso])\n",
    "ym_test_pred = model_m.predict(xm_test[bestm_features_lasso])\n",
    "\n",
    "em_train = metrics.mean_squared_error(ym_train, ym_pred)\n",
    "rmse_train = math.sqrt(em_train)\n",
    "\n",
    "em_test = metrics.mean_squared_error(ym_test, ym_test_pred)\n",
    "rmse_test = math.sqrt(em_test)\n",
    "\n",
    "print('Bias: %.3f'%em_train)\n",
    "print('Generalization: %.3f'%em_test)\n",
    "print('Accuracy for train set: %.3f'% rmse_train)\n",
    "print('Accuracy for test set: %.3f'%rmse_test)\n",
    "print('Mean average error train set: %.3f'%mean_absolute_error(ym_train, ym_pred))\n",
    "print('Mean average error test set: %.3f'%mean_absolute_error(ym_test, ym_test_pred))"
   ]
  },
  {
   "cell_type": "markdown",
   "metadata": {
    "id": "NnWHmOyUZiVi"
   },
   "source": [
    "Po dokonaniu obliczeń na zbiorze danych z kursu matematyki od razu zauważyłyśmy słabszą wydajność modeli. Uzasadnić to można tym, że ten zbiór jest prawie dwa razy mniejszy od zbioru z języka Portugalskiego. Również na podstawie wykorzystanych metryk, możemy zauważyć pewną przewagę estymatora Ridge Regression, a mianowicie niższe błedy w przypadku zbioru testowego oraz dobrze widać działanie regularyzacji. "
   ]
  }
 ],
 "metadata": {
  "colab": {
   "collapsed_sections": [],
   "name": "Regresja",
   "provenance": []
  },
  "kernelspec": {
   "display_name": "Python 3",
   "language": "python",
   "name": "python3"
  },
  "language_info": {
   "codemirror_mode": {
    "name": "ipython",
    "version": 3
   },
   "file_extension": ".py",
   "mimetype": "text/x-python",
   "name": "python",
   "nbconvert_exporter": "python",
   "pygments_lexer": "ipython3",
   "version": "3.7.6"
  }
 },
 "nbformat": 4,
 "nbformat_minor": 1
}
